{
 "cells": [
  {
   "cell_type": "code",
   "execution_count": 87,
   "metadata": {},
   "outputs": [],
   "source": [
    "from sklearn.feature_extraction.text import CountVectorizer\n"
   ]
  },
  {
   "cell_type": "code",
   "execution_count": 88,
   "metadata": {},
   "outputs": [],
   "source": [
    "allsentences = [\"I had pasta for dinner last night, and it was very tasty.\",\n",
    "\"The restaurant serves a variety of pasta dishes, and their carbonara is very tasty.\",\n",
    "\"She prepared a homemade tomato sauce to go with the pasta, and it turned out very tasty.\"\n",
    "]"
   ]
  },
  {
   "cell_type": "code",
   "execution_count": 89,
   "metadata": {},
   "outputs": [],
   "source": [
    "#create object for count vectorizer\n",
    "CountVectorizer = CountVectorizer()\n",
    "\n",
    "X = CountVectorizer.fit_transform(allsentences)"
   ]
  },
  {
   "cell_type": "code",
   "execution_count": 90,
   "metadata": {},
   "outputs": [
    {
     "name": "stdout",
     "output_type": "stream",
     "text": [
      "Result of Bag of words: \n",
      " [[1 0 1 0 1 0 1 0 0 1 1 1 0 0 1 0 0 0 0 0 1 0 0 0 0 0 0 1 1 0]\n",
      " [1 1 0 1 0 0 0 0 1 0 0 0 1 0 1 0 1 0 1 0 1 1 1 0 0 0 1 1 0 0]\n",
      " [1 0 0 0 0 1 0 1 0 1 0 0 0 1 1 1 0 1 0 1 1 1 0 1 1 1 0 1 0 1]]\n"
     ]
    }
   ],
   "source": [
    "result = X.toarray()\n",
    "print(\"Result of Bag of words: \\n\", result)\n"
   ]
  },
  {
   "cell_type": "markdown",
   "metadata": {},
   "source": [
    "TF-IDF"
   ]
  },
  {
   "cell_type": "code",
   "execution_count": 91,
   "metadata": {},
   "outputs": [],
   "source": [
    "from sklearn.feature_extraction.text import TfidfVectorizer\n",
    "import pandas as pd"
   ]
  },
  {
   "cell_type": "code",
   "execution_count": 92,
   "metadata": {},
   "outputs": [],
   "source": [
    "allsentences = [\"I had pasta for dinner last night, and it was very tasty.\",\n",
    "\"The restaurant serves a variety of pasta dishes, and their carbonara is very tasty.\",\n",
    "\"She prepared a homemade tomato sauce to go with the pasta, and it turned out very tasty.\"\n",
    "]"
   ]
  },
  {
   "cell_type": "code",
   "execution_count": 93,
   "metadata": {},
   "outputs": [],
   "source": [
    "vectorizer = TfidfVectorizer()\n",
    "\n",
    "#fitvectoriser to all our senetnces\n",
    "vectors = vectorizer.fit_transform(allsentences)"
   ]
  },
  {
   "cell_type": "code",
   "execution_count": 94,
   "metadata": {},
   "outputs": [
    {
     "name": "stdout",
     "output_type": "stream",
     "text": [
      "Feature names \n",
      "['and' 'carbonara' 'dinner' 'dishes' 'for' 'go' 'had' 'homemade' 'is' 'it'\n",
      " 'last' 'night' 'of' 'out' 'pasta' 'prepared' 'restaurant' 'sauce'\n",
      " 'serves' 'she' 'tasty' 'the' 'their' 'to' 'tomato' 'turned' 'variety'\n",
      " 'very' 'was' 'with']\n"
     ]
    }
   ],
   "source": [
    "feature_names = vectorizer.get_feature_names_out()\n",
    "print(f\"Feature names \\n{feature_names}\")"
   ]
  },
  {
   "cell_type": "code",
   "execution_count": 95,
   "metadata": {},
   "outputs": [
    {
     "name": "stdout",
     "output_type": "stream",
     "text": [
      "Final Result of Tf-Idf \n",
      "        and  carbonara    dinner    dishes       for        go       had  \\\n",
      "0  0.209158   0.000000  0.354136  0.000000  0.354136  0.000000  0.354136   \n",
      "1  0.187015   0.316644  0.000000  0.316644  0.000000  0.000000  0.000000   \n",
      "2  0.166704   0.000000  0.000000  0.000000  0.000000  0.282255  0.000000   \n",
      "\n",
      "   homemade        is        it  ...     tasty       the     their        to  \\\n",
      "0  0.000000  0.000000  0.269329  ...  0.209158  0.000000  0.000000  0.000000   \n",
      "1  0.000000  0.316644  0.000000  ...  0.187015  0.240816  0.316644  0.000000   \n",
      "2  0.282255  0.000000  0.214662  ...  0.166704  0.214662  0.000000  0.282255   \n",
      "\n",
      "     tomato    turned   variety      very       was      with  \n",
      "0  0.000000  0.000000  0.000000  0.209158  0.354136  0.000000  \n",
      "1  0.000000  0.000000  0.316644  0.187015  0.000000  0.000000  \n",
      "2  0.282255  0.282255  0.000000  0.166704  0.000000  0.282255  \n",
      "\n",
      "[3 rows x 30 columns]\n"
     ]
    }
   ],
   "source": [
    "matrix = vectors.todense()\n",
    "denselist = matrix.tolist()\n",
    "\n",
    "#convert list to dataframe\n",
    "\n",
    "df = pd.DataFrame(denselist, columns=feature_names)\n",
    "print(f\"Final Result of Tf-Idf \\n{df}\")"
   ]
  },
  {
   "cell_type": "markdown",
   "metadata": {},
   "source": [
    "Word2vec"
   ]
  },
  {
   "cell_type": "code",
   "execution_count": 96,
   "metadata": {},
   "outputs": [],
   "source": [
    "import nltk\n",
    "import re"
   ]
  },
  {
   "cell_type": "code",
   "execution_count": 97,
   "metadata": {},
   "outputs": [
    {
     "name": "stderr",
     "output_type": "stream",
     "text": [
      "[nltk_data] Downloading package punkt to\n",
      "[nltk_data]     C:\\Users\\moon\\AppData\\Roaming\\nltk_data...\n",
      "[nltk_data]   Package punkt is already up-to-date!\n"
     ]
    },
    {
     "data": {
      "text/plain": [
       "True"
      ]
     },
     "execution_count": 97,
     "metadata": {},
     "output_type": "execute_result"
    }
   ],
   "source": [
    "nltk.download('punkt')"
   ]
  },
  {
   "cell_type": "code",
   "execution_count": 98,
   "metadata": {},
   "outputs": [],
   "source": [
    "#tokenize text og file into sentences\n",
    "from nltk.tokenize import word_tokenize\n",
    "#import word2vec class from gensim"
   ]
  },
  {
   "cell_type": "code",
   "execution_count": 99,
   "metadata": {},
   "outputs": [],
   "source": [
    "from gensim.models import Word2Vec\n"
   ]
  },
  {
   "cell_type": "code",
   "execution_count": 100,
   "metadata": {},
   "outputs": [],
   "source": [
    "from sklearn.decomposition import PCA"
   ]
  },
  {
   "cell_type": "code",
   "execution_count": 101,
   "metadata": {},
   "outputs": [],
   "source": [
    "import matplotlib.pyplot as plt"
   ]
  },
  {
   "cell_type": "code",
   "execution_count": 102,
   "metadata": {},
   "outputs": [],
   "source": [
    "from nltk.tokenize import sent_tokenize"
   ]
  },
  {
   "cell_type": "code",
   "execution_count": 103,
   "metadata": {},
   "outputs": [
    {
     "name": "stdout",
     "output_type": "stream",
     "text": [
      "Number of sentences 9\n"
     ]
    }
   ],
   "source": [
    "with open (\"word_embed.txt\", \"r\", encoding='utf-8') as txt:\n",
    "    sentences = txt.readlines()\n",
    "\n",
    "print(f\"Number of sentences {len(sentences)}\")"
   ]
  },
  {
   "cell_type": "code",
   "execution_count": 104,
   "metadata": {},
   "outputs": [
    {
     "name": "stdout",
     "output_type": "stream",
     "text": [
      "['The sun was setting over the horizon, casting hues of orange and pink across the sky. Sarah sat on the porch, sipping her tea and enjoying the peaceful evening. She watched as the neighborhood kids played tag in the street, their laughter filling the air. A gentle breeze ruffled the leaves of the trees, carrying the scent of freshly cut grass.\\n', '\\n', 'In the distance, she could hear the sound of a lawnmower and the faint strains of music from a nearby house. As twilight descended, the stars began to appear one by one, twinkling in the darkness. Sarah sighed contentedly, feeling grateful for the simple joys of life.\\n', '\\n', 'Inside the house, her cat curled up on the windowsill, purring softly. Sarah smiled at the sight, feeling a sense of warmth and companionship. She thought about all the adventures she and her furry friend had shared over the years.\\n', '\\n', 'Suddenly, she heard the sound of her phone ringing from inside. With a reluctant sigh, she set down her tea and went to answer it. It was her friend Emily, inviting her to a barbecue tomorrow evening. Sarah happily accepted, looking forward to spending time with good company and delicious food.\\n', '\\n', 'As she hung up the phone, she glanced back outside at the tranquil scene before her. The world seemed to slow down for a moment, and she felt a sense of peace wash over her. Tomorrow was another day, full of possibilities and adventures waiting to be discovered. But for now, she was content to simply be in the moment, cherishing the beauty of the present.']\n"
     ]
    }
   ],
   "source": [
    "print(sentences)"
   ]
  },
  {
   "cell_type": "code",
   "execution_count": 105,
   "metadata": {},
   "outputs": [
    {
     "name": "stdout",
     "output_type": "stream",
     "text": [
      "First sentence from text file: \n",
      " The sun was setting over the horizon, casting hues of orange and pink across the sky. Sarah sat on the porch, sipping her tea and enjoying the peaceful evening. She watched as the neighborhood kids played tag in the street, their laughter filling the air. A gentle breeze ruffled the leaves of the trees, carrying the scent of freshly cut grass.\n",
      "\n"
     ]
    }
   ],
   "source": [
    "print(f\"First sentence from text file: \\n {sentences[0]}\")"
   ]
  },
  {
   "cell_type": "code",
   "execution_count": 106,
   "metadata": {},
   "outputs": [
    {
     "name": "stdout",
     "output_type": "stream",
     "text": [
      "First sentence before removing punctuations \n",
      " The sun was setting over the horizon, casting hues of orange and pink across the sky. Sarah sat on the porch, sipping her tea and enjoying the peaceful evening. She watched as the neighborhood kids played tag in the street, their laughter filling the air. A gentle breeze ruffled the leaves of the trees, carrying the scent of freshly cut grass.\n",
      "\n",
      "First sentence after removing punctuations \n",
      " The sun was setting over the horizon  casting hues of orange and pink across the sky  Sarah sat on the porch  sipping her tea and enjoying the peaceful evening  She watched as the neighborhood kids played tag in the street  their laughter filling the air  A gentle breeze ruffled the leaves of the trees  carrying the scent of freshly cut grass  \n"
     ]
    }
   ],
   "source": [
    "print(f\"First sentence before removing punctuations \\n {sentences[0]}\")\n",
    "\n",
    "#removing punctuations\n",
    "\n",
    "for index in range(len(sentences)):\n",
    "    sentences[index] = re.sub(\"[^a-zA-Z]\",\" \", str(sentences[index]))\n",
    "\n",
    "print(f\"First sentence after removing punctuations \\n {sentences[0]}\")"
   ]
  },
  {
   "cell_type": "code",
   "execution_count": 107,
   "metadata": {},
   "outputs": [
    {
     "name": "stdout",
     "output_type": "stream",
     "text": [
      "First sentence after tokenize \n",
      "['The', 'sun', 'was', 'setting', 'over', 'the', 'horizon', 'casting', 'hues', 'of', 'orange', 'and', 'pink', 'across', 'the', 'sky', 'Sarah', 'sat', 'on', 'the', 'porch', 'sipping', 'her', 'tea', 'and', 'enjoying', 'the', 'peaceful', 'evening', 'She', 'watched', 'as', 'the', 'neighborhood', 'kids', 'played', 'tag', 'in', 'the', 'street', 'their', 'laughter', 'filling', 'the', 'air', 'A', 'gentle', 'breeze', 'ruffled', 'the', 'leaves', 'of', 'the', 'trees', 'carrying', 'the', 'scent', 'of', 'freshly', 'cut', 'grass']\n"
     ]
    }
   ],
   "source": [
    "#tokenize text of file into sentences\n",
    "\n",
    "word_tokenizer = []\n",
    "\n",
    "for sent in sentences:\n",
    "    word_tokens = word_tokenize(sent)\n",
    "    word_tokenizer.append(word_tokens)\n",
    "\n",
    "print(f\"First sentence after tokenize \\n{word_tokenizer[0]}\")"
   ]
  },
  {
   "cell_type": "code",
   "execution_count": 108,
   "metadata": {},
   "outputs": [
    {
     "name": "stdout",
     "output_type": "stream",
     "text": [
      "[['The', 'sun', 'was', 'setting', 'over', 'the', 'horizon', 'casting', 'hues', 'of', 'orange', 'and', 'pink', 'across', 'the', 'sky', 'Sarah', 'sat', 'on', 'the', 'porch', 'sipping', 'her', 'tea', 'and', 'enjoying', 'the', 'peaceful', 'evening', 'She', 'watched', 'as', 'the', 'neighborhood', 'kids', 'played', 'tag', 'in', 'the', 'street', 'their', 'laughter', 'filling', 'the', 'air', 'A', 'gentle', 'breeze', 'ruffled', 'the', 'leaves', 'of', 'the', 'trees', 'carrying', 'the', 'scent', 'of', 'freshly', 'cut', 'grass'], [], ['In', 'the', 'distance', 'she', 'could', 'hear', 'the', 'sound', 'of', 'a', 'lawnmower', 'and', 'the', 'faint', 'strains', 'of', 'music', 'from', 'a', 'nearby', 'house', 'As', 'twilight', 'descended', 'the', 'stars', 'began', 'to', 'appear', 'one', 'by', 'one', 'twinkling', 'in', 'the', 'darkness', 'Sarah', 'sighed', 'contentedly', 'feeling', 'grateful', 'for', 'the', 'simple', 'joys', 'of', 'life'], [], ['Inside', 'the', 'house', 'her', 'cat', 'curled', 'up', 'on', 'the', 'windowsill', 'purring', 'softly', 'Sarah', 'smiled', 'at', 'the', 'sight', 'feeling', 'a', 'sense', 'of', 'warmth', 'and', 'companionship', 'She', 'thought', 'about', 'all', 'the', 'adventures', 'she', 'and', 'her', 'furry', 'friend', 'had', 'shared', 'over', 'the', 'years'], [], ['Suddenly', 'she', 'heard', 'the', 'sound', 'of', 'her', 'phone', 'ringing', 'from', 'inside', 'With', 'a', 'reluctant', 'sigh', 'she', 'set', 'down', 'her', 'tea', 'and', 'went', 'to', 'answer', 'it', 'It', 'was', 'her', 'friend', 'Emily', 'inviting', 'her', 'to', 'a', 'barbecue', 'tomorrow', 'evening', 'Sarah', 'happily', 'accepted', 'looking', 'forward', 'to', 'spending', 'time', 'with', 'good', 'company', 'and', 'delicious', 'food'], [], ['As', 'she', 'hung', 'up', 'the', 'phone', 'she', 'glanced', 'back', 'outside', 'at', 'the', 'tranquil', 'scene', 'before', 'her', 'The', 'world', 'seemed', 'to', 'slow', 'down', 'for', 'a', 'moment', 'and', 'she', 'felt', 'a', 'sense', 'of', 'peace', 'wash', 'over', 'her', 'Tomorrow', 'was', 'another', 'day', 'full', 'of', 'possibilities', 'and', 'adventures', 'waiting', 'to', 'be', 'discovered', 'But', 'for', 'now', 'she', 'was', 'content', 'to', 'simply', 'be', 'in', 'the', 'moment', 'cherishing', 'the', 'beauty', 'of', 'the', 'present']]\n"
     ]
    }
   ],
   "source": [
    "print(word_tokenizer)"
   ]
  },
  {
   "cell_type": "code",
   "execution_count": 109,
   "metadata": {},
   "outputs": [
    {
     "name": "stdout",
     "output_type": "stream",
     "text": [
      "Total number of words 32\n"
     ]
    }
   ],
   "source": [
    "model_cbow = Word2Vec(sentences=word_tokenizer,\n",
    "                vector_size=2,\n",
    "                window=2,\n",
    "                min_count=2,\n",
    "                workers=1,\n",
    "                sg=0\n",
    "                )\n",
    "\n",
    "#total vocabulary words for word 2 vec model\n",
    "words_cbow = list(model_cbow.wv.key_to_index.keys())\n",
    "print(f\"Total number of words {len(words_cbow)}\")"
   ]
  },
  {
   "cell_type": "code",
   "execution_count": 110,
   "metadata": {},
   "outputs": [
    {
     "name": "stdout",
     "output_type": "stream",
     "text": [
      "['the', 'of', 'and', 'her', 'she', 'to', 'a', 'Sarah', 'was', 'for', 'over', 'in', 'sound', 'tea', 'evening', 'She', 'on', 'be', 'moment', 'from', 'house', 'As', 'one', 'feeling', 'up', 'at', 'sense', 'adventures', 'friend', 'phone', 'down', 'The']\n"
     ]
    }
   ],
   "source": [
    "print(words_cbow)"
   ]
  },
  {
   "cell_type": "code",
   "execution_count": 114,
   "metadata": {},
   "outputs": [
    {
     "data": {
      "text/plain": [
       "array([-0.37792143, -0.1965101 ], dtype=float32)"
      ]
     },
     "execution_count": 114,
     "metadata": {},
     "output_type": "execute_result"
    }
   ],
   "source": [
    "#we can get word embedding value for a particular word\n",
    "model_cbow.wv.__getitem__('evening')"
   ]
  },
  {
   "cell_type": "code",
   "execution_count": 115,
   "metadata": {},
   "outputs": [
    {
     "data": {
      "text/plain": [
       "<function matplotlib.pyplot.show(close=None, block=None)>"
      ]
     },
     "execution_count": 115,
     "metadata": {},
     "output_type": "execute_result"
    },
    {
     "data": {
      "image/png": "[encoded data removed]",
      "text/plain": [
       "<Figure size 640x480 with 1 Axes>"
      ]
     },
     "metadata": {},
     "output_type": "display_data"
    }
   ],
   "source": [
    "X = model_cbow.wv.__getitem__(model_cbow.wv.key_to_index.keys())\n",
    "\n",
    "#create 2D model using PCA\n",
    "\n",
    "pca_model = PCA(n_components=2)\n",
    "result = pca_model.fit_transform(X)\n",
    "\n",
    "#visualize pca model using matplotlib\n",
    "plt.scatter(result[:,0], result[:,1])\n",
    "words_cbow = list(model_cbow.wv.key_to_index.keys())\n",
    "for i, word in enumerate(words_cbow[:100]):\n",
    "    plt.annotate(text=word, xy=(result[i,0], result[i,1]))\n",
    "plt.show"
   ]
  },
  {
   "cell_type": "code",
   "execution_count": 116,
   "metadata": {},
   "outputs": [
    {
     "name": "stdout",
     "output_type": "stream",
     "text": [
      "Total number of words 9\n"
     ]
    }
   ],
   "source": [
    "model_skip = Word2Vec(sentences=word_tokenizer,\n",
    "                vector_size=2,\n",
    "                window=2,\n",
    "                min_count=4,\n",
    "                workers=1,\n",
    "                sg=1\n",
    "                )\n",
    "\n",
    "# total vocabulary words for word 2 vec model\n",
    "words = list(model_skip.wv.key_to_index.keys())\n",
    "print(f\"Total number of words {len(words)}\")"
   ]
  },
  {
   "cell_type": "code",
   "execution_count": 117,
   "metadata": {},
   "outputs": [
    {
     "name": "stdout",
     "output_type": "stream",
     "text": [
      "['the', 'of', 'her', 'and', 'she', 'to', 'a', 'Sarah', 'was']\n"
     ]
    }
   ],
   "source": [
    "print(words)"
   ]
  },
  {
   "cell_type": "code",
   "execution_count": 126,
   "metadata": {},
   "outputs": [
    {
     "data": {
      "image/png": "[encoded data removed]",
      "text/plain": [
       "<Figure size 640x480 with 1 Axes>"
      ]
     },
     "metadata": {},
     "output_type": "display_data"
    }
   ],
   "source": [
    "X = model_skip.wv.__getitem__(model_skip.wv.key_to_index.keys())\n",
    "\n",
    "# create 2D model using PCA\n",
    "pca_model = PCA(n_components=2)\n",
    "result = pca_model.fit_transform(X)\n",
    "\n",
    "#vizualize pca model using matplotlib\n",
    "plt.scatter(result[:,0], result[:,1])\n",
    "words_skip = list(model_skip.wv.key_to_index.keys())\n",
    "for i, word in enumerate(words_skip[:100]):\n",
    "    plt.annotate(text=word, xy=(result[i,0], result[i,1]))\n",
    "plt.show()"
   ]
  },
  {
   "cell_type": "markdown",
   "metadata": {},
   "source": [
    "Google Word2Vec"
   ]
  },
  {
   "cell_type": "code",
   "execution_count": 128,
   "metadata": {},
   "outputs": [],
   "source": [
    "from gensim.models import KeyedVectors\n",
    "filename = \"GoogleNews-vectors-negative300.bin\"\n",
    "model = KeyedVectors.load_word2vec_format(filename, binary=True)"
   ]
  },
  {
   "cell_type": "code",
   "execution_count": 130,
   "metadata": {},
   "outputs": [
    {
     "name": "stdout",
     "output_type": "stream",
     "text": [
      "Result ? mark in the following sentence King - man = ? - woman : - [('queen', 0.7118192911148071)]\n"
     ]
    }
   ],
   "source": [
    "#just predict or word from king-man+woman = ?\n",
    "result = model.most_similar(positive=['woman', 'king'], negative=['man'], topn=1)\n",
    "print(f\"Result ? mark in the following sentence King - man = ? - woman : - {result}\")"
   ]
  },
  {
   "cell_type": "markdown",
   "metadata": {},
   "source": [
    "Stanford Glove Embeddings"
   ]
  },
  {
   "cell_type": "code",
   "execution_count": 131,
   "metadata": {},
   "outputs": [
    {
     "name": "stderr",
     "output_type": "stream",
     "text": [
      "C:\\Users\\moon\\AppData\\Local\\Temp\\ipykernel_9264\\2119856811.py:7: DeprecationWarning: Call to deprecated `glove2word2vec` (KeyedVectors.load_word2vec_format(.., binary=False, no_header=True) loads GLoVE text vectors.).\n",
      "  glove2word2vec(input_file, word2vec_output_file=output_file)\n"
     ]
    },
    {
     "name": "stdout",
     "output_type": "stream",
     "text": [
      "Result : - [('queen', 0.7698540687561035)]\n"
     ]
    },
    {
     "ename": "",
     "evalue": "",
     "output_type": "error",
     "traceback": [
      "\u001b[1;31mLe noyau s’est bloqué lors de l’exécution du code dans une cellule active ou une cellule précédente. \n",
      "\u001b[1;31mVeuillez vérifier le code dans la ou les cellules pour identifier une cause possible de l’échec. \n",
      "\u001b[1;31mCliquez <a href='https://aka.ms/vscodeJupyterKernelCrash'>ici</a> pour plus d’informations. \n",
      "\u001b[1;31mPour plus d’informations, consultez Jupyter <a href='command:jupyter.viewOutput'>log</a>."
     ]
    }
   ],
   "source": [
    "from gensim.scripts.glove2word2vec import glove2word2vec\n",
    "from gensim.models import KeyedVectors\n",
    "input_file = \"glove.6B.100d.txt\"\n",
    "output_file = \"glove.6B.100d.txt.word2vec\"\n",
    "\n",
    "#convert input file to word2vec format using glove2word2vec function\n",
    "glove2word2vec(input_file, word2vec_output_file=output_file)\n",
    "\n",
    "model = KeyedVectors.load_word2vec_format(output_file, binary=False)\n",
    "\n",
    "result = model.most_similar(positive=['woman', 'king'], negative=['man'], topn=1)\n",
    "print(f\"Result : - {result}\")"
   ]
  },
  {
   "cell_type": "code",
   "execution_count": null,
   "metadata": {},
   "outputs": [],
   "source": []
  }
 ],
 "metadata": {
  "kernelspec": {
   "display_name": "opencv2",
   "language": "python",
   "name": "python3"
  },
  "language_info": {
   "codemirror_mode": {
    "name": "ipython",
    "version": 3
   },
   "file_extension": ".py",
   "mimetype": "text/x-python",
   "name": "python",
   "nbconvert_exporter": "python",
   "pygments_lexer": "ipython3",
   "version": "3.11.0"
  }
 },
 "nbformat": 4,
 "nbformat_minor": 2
}
